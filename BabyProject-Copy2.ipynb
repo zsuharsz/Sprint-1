{
 "cells": [
  {
   "cell_type": "code",
   "execution_count": 43,
   "id": "61b1f63b",
   "metadata": {},
   "outputs": [],
   "source": [
    "import pandas as pd\n",
    "import json\n",
    "\n",
    "\n",
    "with open('0a58ef5a-9f01-49bc-9bb7-f13ab042b80f_noPII.json') as data_file:\n",
    "    data = json.load(data_file)\n",
    "\n",
    "with open('0ab502fb-87e9-4764-8bc8-778da2e2bcfb_noPII.json') as data_file:\n",
    "    data2 = json.load(data_file)\n",
    "    \n",
    "with open('0be25f06-b139-424d-8f78-f945dd32f1c9_noPII.json') as data_file:\n",
    "    data3 = json.load(data_file)"
   ]
  },
  {
   "cell_type": "code",
   "execution_count": 44,
   "id": "5b41b05a",
   "metadata": {},
   "outputs": [],
   "source": [
    "#Exploring Data File 1... Listed Below is Account Keys and Descriptions as well as specific allocations relating to this \n",
    "#JSON File.\n",
    "#Answers Question 1."
   ]
  },
  {
   "cell_type": "code",
   "execution_count": 45,
   "id": "91ebc591",
   "metadata": {},
   "outputs": [],
   "source": [
    "df_accounts = pd.json_normalize(data, record_path=['AccountAllocations', 'Accounts'])[['Key','Description']]"
   ]
  },
  {
   "cell_type": "code",
   "execution_count": 46,
   "id": "dbc8c5f2",
   "metadata": {},
   "outputs": [
    {
     "data": {
      "text/html": [
       "<div>\n",
       "<style scoped>\n",
       "    .dataframe tbody tr th:only-of-type {\n",
       "        vertical-align: middle;\n",
       "    }\n",
       "\n",
       "    .dataframe tbody tr th {\n",
       "        vertical-align: top;\n",
       "    }\n",
       "\n",
       "    .dataframe thead th {\n",
       "        text-align: right;\n",
       "    }\n",
       "</style>\n",
       "<table border=\"1\" class=\"dataframe\">\n",
       "  <thead>\n",
       "    <tr style=\"text-align: right;\">\n",
       "      <th></th>\n",
       "      <th>Key</th>\n",
       "      <th>Description</th>\n",
       "    </tr>\n",
       "  </thead>\n",
       "  <tbody>\n",
       "    <tr>\n",
       "      <th>0</th>\n",
       "      <td>Fixed</td>\n",
       "      <td>Fixed</td>\n",
       "    </tr>\n",
       "    <tr>\n",
       "      <th>1</th>\n",
       "      <td>FixedLT</td>\n",
       "      <td>FixedLT</td>\n",
       "    </tr>\n",
       "    <tr>\n",
       "      <th>2</th>\n",
       "      <td>1YrA</td>\n",
       "      <td>1-Year Indexed Account</td>\n",
       "    </tr>\n",
       "    <tr>\n",
       "      <th>3</th>\n",
       "      <td>1YrD</td>\n",
       "      <td>1-Year No Cap Indexed Account</td>\n",
       "    </tr>\n",
       "    <tr>\n",
       "      <th>4</th>\n",
       "      <td>1YrF</td>\n",
       "      <td>1-Year High Cap Plus Indexed Account</td>\n",
       "    </tr>\n",
       "    <tr>\n",
       "      <th>5</th>\n",
       "      <td>Var</td>\n",
       "      <td>Variable Account</td>\n",
       "    </tr>\n",
       "  </tbody>\n",
       "</table>\n",
       "</div>"
      ],
      "text/plain": [
       "       Key                           Description\n",
       "0    Fixed                                 Fixed\n",
       "1  FixedLT                               FixedLT\n",
       "2     1YrA                1-Year Indexed Account\n",
       "3     1YrD         1-Year No Cap Indexed Account\n",
       "4     1YrF  1-Year High Cap Plus Indexed Account\n",
       "5      Var                      Variable Account"
      ]
     },
     "execution_count": 46,
     "metadata": {},
     "output_type": "execute_result"
    }
   ],
   "source": [
    "df_accounts"
   ]
  },
  {
   "cell_type": "code",
   "execution_count": 47,
   "id": "2ba062a5",
   "metadata": {},
   "outputs": [],
   "source": [
    "df_allocations = pd.json_normalize(data, record_path=['AccountAllocations','Accounts','FutureAllocations'], meta=[['AccountAllocations','Accounts','Key'],['AccountAllocations','Accounts','Description']])[['AllocationPct','AccountAllocations.Accounts.Description']]"
   ]
  },
  {
   "cell_type": "code",
   "execution_count": 48,
   "id": "cc00e87e",
   "metadata": {},
   "outputs": [
    {
     "data": {
      "text/html": [
       "<div>\n",
       "<style scoped>\n",
       "    .dataframe tbody tr th:only-of-type {\n",
       "        vertical-align: middle;\n",
       "    }\n",
       "\n",
       "    .dataframe tbody tr th {\n",
       "        vertical-align: top;\n",
       "    }\n",
       "\n",
       "    .dataframe thead th {\n",
       "        text-align: right;\n",
       "    }\n",
       "</style>\n",
       "<table border=\"1\" class=\"dataframe\">\n",
       "  <thead>\n",
       "    <tr style=\"text-align: right;\">\n",
       "      <th></th>\n",
       "      <th>AllocationPct</th>\n",
       "      <th>AccountAllocations.Accounts.Description</th>\n",
       "    </tr>\n",
       "  </thead>\n",
       "  <tbody>\n",
       "    <tr>\n",
       "      <th>0</th>\n",
       "      <td>0.0</td>\n",
       "      <td>Fixed</td>\n",
       "    </tr>\n",
       "    <tr>\n",
       "      <th>1</th>\n",
       "      <td>0.0</td>\n",
       "      <td>FixedLT</td>\n",
       "    </tr>\n",
       "    <tr>\n",
       "      <th>2</th>\n",
       "      <td>0.0</td>\n",
       "      <td>1-Year Indexed Account</td>\n",
       "    </tr>\n",
       "    <tr>\n",
       "      <th>3</th>\n",
       "      <td>0.0</td>\n",
       "      <td>1-Year No Cap Indexed Account</td>\n",
       "    </tr>\n",
       "    <tr>\n",
       "      <th>4</th>\n",
       "      <td>0.0</td>\n",
       "      <td>1-Year High Cap Plus Indexed Account</td>\n",
       "    </tr>\n",
       "    <tr>\n",
       "      <th>5</th>\n",
       "      <td>100.0</td>\n",
       "      <td>Variable Account</td>\n",
       "    </tr>\n",
       "  </tbody>\n",
       "</table>\n",
       "</div>"
      ],
      "text/plain": [
       "   AllocationPct AccountAllocations.Accounts.Description\n",
       "0            0.0                                   Fixed\n",
       "1            0.0                                 FixedLT\n",
       "2            0.0                  1-Year Indexed Account\n",
       "3            0.0           1-Year No Cap Indexed Account\n",
       "4            0.0    1-Year High Cap Plus Indexed Account\n",
       "5          100.0                        Variable Account"
      ]
     },
     "execution_count": 48,
     "metadata": {},
     "output_type": "execute_result"
    }
   ],
   "source": [
    "df_allocations"
   ]
  },
  {
   "cell_type": "code",
   "execution_count": 49,
   "id": "eb16cc08",
   "metadata": {},
   "outputs": [],
   "source": [
    "df_allocation = pd.json_normalize(data, record_path=['FundAllocationFuture'])[['Name','Allocation']]\n"
   ]
  },
  {
   "cell_type": "code",
   "execution_count": 50,
   "id": "1b09e864",
   "metadata": {},
   "outputs": [
    {
     "data": {
      "text/html": [
       "<div>\n",
       "<style scoped>\n",
       "    .dataframe tbody tr th:only-of-type {\n",
       "        vertical-align: middle;\n",
       "    }\n",
       "\n",
       "    .dataframe tbody tr th {\n",
       "        vertical-align: top;\n",
       "    }\n",
       "\n",
       "    .dataframe thead th {\n",
       "        text-align: right;\n",
       "    }\n",
       "</style>\n",
       "<table border=\"1\" class=\"dataframe\">\n",
       "  <thead>\n",
       "    <tr style=\"text-align: right;\">\n",
       "      <th></th>\n",
       "      <th>Name</th>\n",
       "      <th>Allocation</th>\n",
       "    </tr>\n",
       "  </thead>\n",
       "  <tbody>\n",
       "    <tr>\n",
       "      <th>0</th>\n",
       "      <td>Vanguard VIF Mid Cap Index</td>\n",
       "      <td>100%</td>\n",
       "    </tr>\n",
       "  </tbody>\n",
       "</table>\n",
       "</div>"
      ],
      "text/plain": [
       "                         Name Allocation\n",
       "0  Vanguard VIF Mid Cap Index       100%"
      ]
     },
     "execution_count": 50,
     "metadata": {},
     "output_type": "execute_result"
    }
   ],
   "source": [
    "df_allocation"
   ]
  },
  {
   "cell_type": "code",
   "execution_count": 51,
   "id": "20b71d2b",
   "metadata": {},
   "outputs": [],
   "source": [
    "#Exploring Data File 2... Listed Below is Account Keys and Descriptions as well as specific allocations relating to this \n",
    "#JSON File.\n",
    "#Answers Question 1."
   ]
  },
  {
   "cell_type": "code",
   "execution_count": 52,
   "id": "2fc02d72",
   "metadata": {},
   "outputs": [],
   "source": [
    "df_accounts2 = pd.json_normalize(data2, record_path=['AccountAllocations', 'Accounts'])[['Key','Description']]"
   ]
  },
  {
   "cell_type": "code",
   "execution_count": 53,
   "id": "1ebe68eb",
   "metadata": {},
   "outputs": [
    {
     "data": {
      "text/html": [
       "<div>\n",
       "<style scoped>\n",
       "    .dataframe tbody tr th:only-of-type {\n",
       "        vertical-align: middle;\n",
       "    }\n",
       "\n",
       "    .dataframe tbody tr th {\n",
       "        vertical-align: top;\n",
       "    }\n",
       "\n",
       "    .dataframe thead th {\n",
       "        text-align: right;\n",
       "    }\n",
       "</style>\n",
       "<table border=\"1\" class=\"dataframe\">\n",
       "  <thead>\n",
       "    <tr style=\"text-align: right;\">\n",
       "      <th></th>\n",
       "      <th>Key</th>\n",
       "      <th>Description</th>\n",
       "    </tr>\n",
       "  </thead>\n",
       "  <tbody>\n",
       "    <tr>\n",
       "      <th>0</th>\n",
       "      <td>Fixed</td>\n",
       "      <td>Fixed</td>\n",
       "    </tr>\n",
       "    <tr>\n",
       "      <th>1</th>\n",
       "      <td>FixedLT</td>\n",
       "      <td>FixedLT</td>\n",
       "    </tr>\n",
       "    <tr>\n",
       "      <th>2</th>\n",
       "      <td>1YrA</td>\n",
       "      <td>1-Year Indexed Account</td>\n",
       "    </tr>\n",
       "    <tr>\n",
       "      <th>3</th>\n",
       "      <td>1YrD</td>\n",
       "      <td>1-Year No Cap Indexed Account</td>\n",
       "    </tr>\n",
       "    <tr>\n",
       "      <th>4</th>\n",
       "      <td>1YrF</td>\n",
       "      <td>1-Year High Cap Plus Indexed Account</td>\n",
       "    </tr>\n",
       "    <tr>\n",
       "      <th>5</th>\n",
       "      <td>Var</td>\n",
       "      <td>Variable Account</td>\n",
       "    </tr>\n",
       "  </tbody>\n",
       "</table>\n",
       "</div>"
      ],
      "text/plain": [
       "       Key                           Description\n",
       "0    Fixed                                 Fixed\n",
       "1  FixedLT                               FixedLT\n",
       "2     1YrA                1-Year Indexed Account\n",
       "3     1YrD         1-Year No Cap Indexed Account\n",
       "4     1YrF  1-Year High Cap Plus Indexed Account\n",
       "5      Var                      Variable Account"
      ]
     },
     "execution_count": 53,
     "metadata": {},
     "output_type": "execute_result"
    }
   ],
   "source": [
    "df_accounts2"
   ]
  },
  {
   "cell_type": "code",
   "execution_count": 54,
   "id": "3e31ae86",
   "metadata": {},
   "outputs": [],
   "source": [
    "df_allocations2 = pd.json_normalize(data2, record_path=['AccountAllocations','Accounts','FutureAllocations'], meta=[['AccountAllocations','Accounts','Key'],['AccountAllocations','Accounts','Description']])[['AllocationPct','AccountAllocations.Accounts.Description']]"
   ]
  },
  {
   "cell_type": "code",
   "execution_count": 55,
   "id": "19ec2c49",
   "metadata": {},
   "outputs": [
    {
     "data": {
      "text/html": [
       "<div>\n",
       "<style scoped>\n",
       "    .dataframe tbody tr th:only-of-type {\n",
       "        vertical-align: middle;\n",
       "    }\n",
       "\n",
       "    .dataframe tbody tr th {\n",
       "        vertical-align: top;\n",
       "    }\n",
       "\n",
       "    .dataframe thead th {\n",
       "        text-align: right;\n",
       "    }\n",
       "</style>\n",
       "<table border=\"1\" class=\"dataframe\">\n",
       "  <thead>\n",
       "    <tr style=\"text-align: right;\">\n",
       "      <th></th>\n",
       "      <th>AllocationPct</th>\n",
       "      <th>AccountAllocations.Accounts.Description</th>\n",
       "    </tr>\n",
       "  </thead>\n",
       "  <tbody>\n",
       "    <tr>\n",
       "      <th>0</th>\n",
       "      <td>0.0</td>\n",
       "      <td>Fixed</td>\n",
       "    </tr>\n",
       "    <tr>\n",
       "      <th>1</th>\n",
       "      <td>0.0</td>\n",
       "      <td>FixedLT</td>\n",
       "    </tr>\n",
       "    <tr>\n",
       "      <th>2</th>\n",
       "      <td>0.0</td>\n",
       "      <td>1-Year Indexed Account</td>\n",
       "    </tr>\n",
       "    <tr>\n",
       "      <th>3</th>\n",
       "      <td>0.0</td>\n",
       "      <td>1-Year No Cap Indexed Account</td>\n",
       "    </tr>\n",
       "    <tr>\n",
       "      <th>4</th>\n",
       "      <td>0.0</td>\n",
       "      <td>1-Year High Cap Plus Indexed Account</td>\n",
       "    </tr>\n",
       "    <tr>\n",
       "      <th>5</th>\n",
       "      <td>100.0</td>\n",
       "      <td>Variable Account</td>\n",
       "    </tr>\n",
       "  </tbody>\n",
       "</table>\n",
       "</div>"
      ],
      "text/plain": [
       "   AllocationPct AccountAllocations.Accounts.Description\n",
       "0            0.0                                   Fixed\n",
       "1            0.0                                 FixedLT\n",
       "2            0.0                  1-Year Indexed Account\n",
       "3            0.0           1-Year No Cap Indexed Account\n",
       "4            0.0    1-Year High Cap Plus Indexed Account\n",
       "5          100.0                        Variable Account"
      ]
     },
     "execution_count": 55,
     "metadata": {},
     "output_type": "execute_result"
    }
   ],
   "source": [
    "df_allocations2"
   ]
  },
  {
   "cell_type": "code",
   "execution_count": 56,
   "id": "a7daa7ed",
   "metadata": {},
   "outputs": [],
   "source": [
    "df_allocation2 = pd.json_normalize(data2, record_path=['FundAllocationFuture'])[['Name','Allocation']]"
   ]
  },
  {
   "cell_type": "code",
   "execution_count": 57,
   "id": "210d3884",
   "metadata": {},
   "outputs": [
    {
     "data": {
      "text/html": [
       "<div>\n",
       "<style scoped>\n",
       "    .dataframe tbody tr th:only-of-type {\n",
       "        vertical-align: middle;\n",
       "    }\n",
       "\n",
       "    .dataframe tbody tr th {\n",
       "        vertical-align: top;\n",
       "    }\n",
       "\n",
       "    .dataframe thead th {\n",
       "        text-align: right;\n",
       "    }\n",
       "</style>\n",
       "<table border=\"1\" class=\"dataframe\">\n",
       "  <thead>\n",
       "    <tr style=\"text-align: right;\">\n",
       "      <th></th>\n",
       "      <th>Name</th>\n",
       "      <th>Allocation</th>\n",
       "    </tr>\n",
       "  </thead>\n",
       "  <tbody>\n",
       "    <tr>\n",
       "      <th>0</th>\n",
       "      <td>Vanguard VIF Mid Cap Index</td>\n",
       "      <td>100%</td>\n",
       "    </tr>\n",
       "  </tbody>\n",
       "</table>\n",
       "</div>"
      ],
      "text/plain": [
       "                         Name Allocation\n",
       "0  Vanguard VIF Mid Cap Index       100%"
      ]
     },
     "execution_count": 57,
     "metadata": {},
     "output_type": "execute_result"
    }
   ],
   "source": [
    "df_allocation2"
   ]
  },
  {
   "cell_type": "code",
   "execution_count": 58,
   "id": "4e06eeb7",
   "metadata": {},
   "outputs": [],
   "source": [
    "#Exploring Data File 3... Listed Below is Account Keys and Descriptions as well as specific allocations relating to this \n",
    "#JSON File. \n",
    "#Answers Question 1."
   ]
  },
  {
   "cell_type": "code",
   "execution_count": 59,
   "id": "cf504458",
   "metadata": {},
   "outputs": [],
   "source": [
    "df_accounts3 = pd.json_normalize(data3, record_path=['AccountAllocations', 'Accounts'])[['Key','Description']]"
   ]
  },
  {
   "cell_type": "code",
   "execution_count": 60,
   "id": "77d893de",
   "metadata": {},
   "outputs": [
    {
     "data": {
      "text/html": [
       "<div>\n",
       "<style scoped>\n",
       "    .dataframe tbody tr th:only-of-type {\n",
       "        vertical-align: middle;\n",
       "    }\n",
       "\n",
       "    .dataframe tbody tr th {\n",
       "        vertical-align: top;\n",
       "    }\n",
       "\n",
       "    .dataframe thead th {\n",
       "        text-align: right;\n",
       "    }\n",
       "</style>\n",
       "<table border=\"1\" class=\"dataframe\">\n",
       "  <thead>\n",
       "    <tr style=\"text-align: right;\">\n",
       "      <th></th>\n",
       "      <th>Key</th>\n",
       "      <th>Description</th>\n",
       "    </tr>\n",
       "  </thead>\n",
       "  <tbody>\n",
       "    <tr>\n",
       "      <th>0</th>\n",
       "      <td>Fixed</td>\n",
       "      <td>Fixed</td>\n",
       "    </tr>\n",
       "    <tr>\n",
       "      <th>1</th>\n",
       "      <td>FixedLT</td>\n",
       "      <td>FixedLT</td>\n",
       "    </tr>\n",
       "    <tr>\n",
       "      <th>2</th>\n",
       "      <td>1YrA</td>\n",
       "      <td>1-Year Indexed Account</td>\n",
       "    </tr>\n",
       "    <tr>\n",
       "      <th>3</th>\n",
       "      <td>1YrD</td>\n",
       "      <td>1-Year No Cap Indexed Account</td>\n",
       "    </tr>\n",
       "    <tr>\n",
       "      <th>4</th>\n",
       "      <td>1YrF</td>\n",
       "      <td>1-Year High Cap Plus Indexed Account</td>\n",
       "    </tr>\n",
       "    <tr>\n",
       "      <th>5</th>\n",
       "      <td>Var</td>\n",
       "      <td>Variable Account</td>\n",
       "    </tr>\n",
       "  </tbody>\n",
       "</table>\n",
       "</div>"
      ],
      "text/plain": [
       "       Key                           Description\n",
       "0    Fixed                                 Fixed\n",
       "1  FixedLT                               FixedLT\n",
       "2     1YrA                1-Year Indexed Account\n",
       "3     1YrD         1-Year No Cap Indexed Account\n",
       "4     1YrF  1-Year High Cap Plus Indexed Account\n",
       "5      Var                      Variable Account"
      ]
     },
     "execution_count": 60,
     "metadata": {},
     "output_type": "execute_result"
    }
   ],
   "source": [
    "df_accounts3"
   ]
  },
  {
   "cell_type": "code",
   "execution_count": 61,
   "id": "021f7f7d",
   "metadata": {},
   "outputs": [],
   "source": [
    "df_allocations3 = pd.json_normalize(data3, record_path=['AccountAllocations','Accounts','FutureAllocations'], meta=[['AccountAllocations','Accounts','Key'],['AccountAllocations','Accounts','Description']])[['AllocationPct','AccountAllocations.Accounts.Description']]"
   ]
  },
  {
   "cell_type": "code",
   "execution_count": 62,
   "id": "6db5b044",
   "metadata": {},
   "outputs": [
    {
     "data": {
      "text/html": [
       "<div>\n",
       "<style scoped>\n",
       "    .dataframe tbody tr th:only-of-type {\n",
       "        vertical-align: middle;\n",
       "    }\n",
       "\n",
       "    .dataframe tbody tr th {\n",
       "        vertical-align: top;\n",
       "    }\n",
       "\n",
       "    .dataframe thead th {\n",
       "        text-align: right;\n",
       "    }\n",
       "</style>\n",
       "<table border=\"1\" class=\"dataframe\">\n",
       "  <thead>\n",
       "    <tr style=\"text-align: right;\">\n",
       "      <th></th>\n",
       "      <th>AllocationPct</th>\n",
       "      <th>AccountAllocations.Accounts.Description</th>\n",
       "    </tr>\n",
       "  </thead>\n",
       "  <tbody>\n",
       "    <tr>\n",
       "      <th>0</th>\n",
       "      <td>0.0</td>\n",
       "      <td>Fixed</td>\n",
       "    </tr>\n",
       "    <tr>\n",
       "      <th>1</th>\n",
       "      <td>0.0</td>\n",
       "      <td>FixedLT</td>\n",
       "    </tr>\n",
       "    <tr>\n",
       "      <th>2</th>\n",
       "      <td>0.0</td>\n",
       "      <td>1-Year Indexed Account</td>\n",
       "    </tr>\n",
       "    <tr>\n",
       "      <th>3</th>\n",
       "      <td>0.0</td>\n",
       "      <td>1-Year No Cap Indexed Account</td>\n",
       "    </tr>\n",
       "    <tr>\n",
       "      <th>4</th>\n",
       "      <td>0.0</td>\n",
       "      <td>1-Year High Cap Plus Indexed Account</td>\n",
       "    </tr>\n",
       "    <tr>\n",
       "      <th>5</th>\n",
       "      <td>100.0</td>\n",
       "      <td>Variable Account</td>\n",
       "    </tr>\n",
       "  </tbody>\n",
       "</table>\n",
       "</div>"
      ],
      "text/plain": [
       "   AllocationPct AccountAllocations.Accounts.Description\n",
       "0            0.0                                   Fixed\n",
       "1            0.0                                 FixedLT\n",
       "2            0.0                  1-Year Indexed Account\n",
       "3            0.0           1-Year No Cap Indexed Account\n",
       "4            0.0    1-Year High Cap Plus Indexed Account\n",
       "5          100.0                        Variable Account"
      ]
     },
     "execution_count": 62,
     "metadata": {},
     "output_type": "execute_result"
    }
   ],
   "source": [
    "df_allocations3"
   ]
  },
  {
   "cell_type": "code",
   "execution_count": 63,
   "id": "53c19003",
   "metadata": {},
   "outputs": [],
   "source": [
    "df_allocation3 = pd.json_normalize(data3, record_path=['FundAllocationFuture'])[['Name','Allocation']]"
   ]
  },
  {
   "cell_type": "code",
   "execution_count": 64,
   "id": "281b0c16",
   "metadata": {},
   "outputs": [
    {
     "data": {
      "text/html": [
       "<div>\n",
       "<style scoped>\n",
       "    .dataframe tbody tr th:only-of-type {\n",
       "        vertical-align: middle;\n",
       "    }\n",
       "\n",
       "    .dataframe tbody tr th {\n",
       "        vertical-align: top;\n",
       "    }\n",
       "\n",
       "    .dataframe thead th {\n",
       "        text-align: right;\n",
       "    }\n",
       "</style>\n",
       "<table border=\"1\" class=\"dataframe\">\n",
       "  <thead>\n",
       "    <tr style=\"text-align: right;\">\n",
       "      <th></th>\n",
       "      <th>Name</th>\n",
       "      <th>Allocation</th>\n",
       "    </tr>\n",
       "  </thead>\n",
       "  <tbody>\n",
       "    <tr>\n",
       "      <th>0</th>\n",
       "      <td>Vanguard VIF Mid Cap Index</td>\n",
       "      <td>100%</td>\n",
       "    </tr>\n",
       "  </tbody>\n",
       "</table>\n",
       "</div>"
      ],
      "text/plain": [
       "                         Name Allocation\n",
       "0  Vanguard VIF Mid Cap Index       100%"
      ]
     },
     "execution_count": 64,
     "metadata": {},
     "output_type": "execute_result"
    }
   ],
   "source": [
    "df_allocation3"
   ]
  },
  {
   "cell_type": "code",
   "execution_count": 65,
   "id": "383abbd9",
   "metadata": {},
   "outputs": [],
   "source": [
    "#The following code combines allocations from the three JSON files into one table.\n",
    "#Answers Question 2."
   ]
  },
  {
   "cell_type": "code",
   "execution_count": 69,
   "id": "4dd20f1b",
   "metadata": {},
   "outputs": [
    {
     "data": {
      "text/html": [
       "<div>\n",
       "<style scoped>\n",
       "    .dataframe tbody tr th:only-of-type {\n",
       "        vertical-align: middle;\n",
       "    }\n",
       "\n",
       "    .dataframe tbody tr th {\n",
       "        vertical-align: top;\n",
       "    }\n",
       "\n",
       "    .dataframe thead th {\n",
       "        text-align: right;\n",
       "    }\n",
       "</style>\n",
       "<table border=\"1\" class=\"dataframe\">\n",
       "  <thead>\n",
       "    <tr style=\"text-align: right;\">\n",
       "      <th></th>\n",
       "      <th>AllocationPct_x</th>\n",
       "      <th>AccountAllocations.Accounts.Description</th>\n",
       "      <th>AllocationPct_y</th>\n",
       "      <th>AllocationPct</th>\n",
       "    </tr>\n",
       "  </thead>\n",
       "  <tbody>\n",
       "    <tr>\n",
       "      <th>0</th>\n",
       "      <td>0.0</td>\n",
       "      <td>Fixed</td>\n",
       "      <td>0.0</td>\n",
       "      <td>0.0</td>\n",
       "    </tr>\n",
       "    <tr>\n",
       "      <th>1</th>\n",
       "      <td>0.0</td>\n",
       "      <td>FixedLT</td>\n",
       "      <td>0.0</td>\n",
       "      <td>0.0</td>\n",
       "    </tr>\n",
       "    <tr>\n",
       "      <th>2</th>\n",
       "      <td>0.0</td>\n",
       "      <td>1-Year Indexed Account</td>\n",
       "      <td>0.0</td>\n",
       "      <td>0.0</td>\n",
       "    </tr>\n",
       "    <tr>\n",
       "      <th>3</th>\n",
       "      <td>0.0</td>\n",
       "      <td>1-Year No Cap Indexed Account</td>\n",
       "      <td>0.0</td>\n",
       "      <td>0.0</td>\n",
       "    </tr>\n",
       "    <tr>\n",
       "      <th>4</th>\n",
       "      <td>0.0</td>\n",
       "      <td>1-Year High Cap Plus Indexed Account</td>\n",
       "      <td>0.0</td>\n",
       "      <td>0.0</td>\n",
       "    </tr>\n",
       "    <tr>\n",
       "      <th>5</th>\n",
       "      <td>100.0</td>\n",
       "      <td>Variable Account</td>\n",
       "      <td>100.0</td>\n",
       "      <td>100.0</td>\n",
       "    </tr>\n",
       "  </tbody>\n",
       "</table>\n",
       "</div>"
      ],
      "text/plain": [
       "   AllocationPct_x AccountAllocations.Accounts.Description  AllocationPct_y  \\\n",
       "0              0.0                                   Fixed              0.0   \n",
       "1              0.0                                 FixedLT              0.0   \n",
       "2              0.0                  1-Year Indexed Account              0.0   \n",
       "3              0.0           1-Year No Cap Indexed Account              0.0   \n",
       "4              0.0    1-Year High Cap Plus Indexed Account              0.0   \n",
       "5            100.0                        Variable Account            100.0   \n",
       "\n",
       "   AllocationPct  \n",
       "0            0.0  \n",
       "1            0.0  \n",
       "2            0.0  \n",
       "3            0.0  \n",
       "4            0.0  \n",
       "5          100.0  "
      ]
     },
     "execution_count": 69,
     "metadata": {},
     "output_type": "execute_result"
    }
   ],
   "source": [
    "df_allocations\n",
    "\n",
    "merged_allocations = df_allocations.merge(df_allocations2, on='AccountAllocations.Accounts.Description')\n",
    "merged_allocations = merged_allocations.merge(df_allocations3, on='AccountAllocations.Accounts.Description')\n",
    "merged_allocations"
   ]
  },
  {
   "cell_type": "code",
   "execution_count": 66,
   "id": "fffd8c03",
   "metadata": {},
   "outputs": [
    {
     "data": {
      "text/html": [
       "<div>\n",
       "<style scoped>\n",
       "    .dataframe tbody tr th:only-of-type {\n",
       "        vertical-align: middle;\n",
       "    }\n",
       "\n",
       "    .dataframe tbody tr th {\n",
       "        vertical-align: top;\n",
       "    }\n",
       "\n",
       "    .dataframe thead th {\n",
       "        text-align: right;\n",
       "    }\n",
       "</style>\n",
       "<table border=\"1\" class=\"dataframe\">\n",
       "  <thead>\n",
       "    <tr style=\"text-align: right;\">\n",
       "      <th></th>\n",
       "      <th>Name_x</th>\n",
       "      <th>Allocation</th>\n",
       "      <th>Name_y</th>\n",
       "      <th>Name</th>\n",
       "    </tr>\n",
       "  </thead>\n",
       "  <tbody>\n",
       "    <tr>\n",
       "      <th>0</th>\n",
       "      <td>Vanguard VIF Mid Cap Index</td>\n",
       "      <td>100%</td>\n",
       "      <td>Vanguard VIF Mid Cap Index</td>\n",
       "      <td>Vanguard VIF Mid Cap Index</td>\n",
       "    </tr>\n",
       "  </tbody>\n",
       "</table>\n",
       "</div>"
      ],
      "text/plain": [
       "                       Name_x Allocation                      Name_y  \\\n",
       "0  Vanguard VIF Mid Cap Index       100%  Vanguard VIF Mid Cap Index   \n",
       "\n",
       "                         Name  \n",
       "0  Vanguard VIF Mid Cap Index  "
      ]
     },
     "execution_count": 66,
     "metadata": {},
     "output_type": "execute_result"
    }
   ],
   "source": [
    "df_allocation\n",
    "\n",
    "merged_allocation = df_allocation.merge(df_allocation2, on='Allocation')\n",
    "merged_allocation = merged_allocation.merge(df_allocation3, on='Allocation')\n",
    "merged_allocation"
   ]
  },
  {
   "cell_type": "code",
   "execution_count": null,
   "id": "4205165d",
   "metadata": {},
   "outputs": [],
   "source": [
    "#The following code identifies the Riders from the JSON file and displays whether it is an optional add-on or not. \n",
    "#Answers Question 3."
   ]
  },
  {
   "cell_type": "code",
   "execution_count": 67,
   "id": "63070287",
   "metadata": {},
   "outputs": [],
   "source": [
    "df_riders = pd.json_normalize (data, record_path =['Riders'])[['Idx','Name','Category']]"
   ]
  },
  {
   "cell_type": "code",
   "execution_count": 68,
   "id": "212971f0",
   "metadata": {},
   "outputs": [
    {
     "data": {
      "text/html": [
       "<div>\n",
       "<style scoped>\n",
       "    .dataframe tbody tr th:only-of-type {\n",
       "        vertical-align: middle;\n",
       "    }\n",
       "\n",
       "    .dataframe tbody tr th {\n",
       "        vertical-align: top;\n",
       "    }\n",
       "\n",
       "    .dataframe thead th {\n",
       "        text-align: right;\n",
       "    }\n",
       "</style>\n",
       "<table border=\"1\" class=\"dataframe\">\n",
       "  <thead>\n",
       "    <tr style=\"text-align: right;\">\n",
       "      <th></th>\n",
       "      <th>Idx</th>\n",
       "      <th>Name</th>\n",
       "      <th>Category</th>\n",
       "    </tr>\n",
       "  </thead>\n",
       "  <tbody>\n",
       "    <tr>\n",
       "      <th>0</th>\n",
       "      <td>1</td>\n",
       "      <td>Conversion Rider</td>\n",
       "      <td>Automatic</td>\n",
       "    </tr>\n",
       "    <tr>\n",
       "      <th>1</th>\n",
       "      <td>2</td>\n",
       "      <td>Minimum Indexed Benefit Rider</td>\n",
       "      <td>Automatic</td>\n",
       "    </tr>\n",
       "    <tr>\n",
       "      <th>2</th>\n",
       "      <td>3</td>\n",
       "      <td>Overloan Protection 3 Rider</td>\n",
       "      <td>Automatic</td>\n",
       "    </tr>\n",
       "    <tr>\n",
       "      <th>3</th>\n",
       "      <td>4</td>\n",
       "      <td>Accelerated Death Benefit Rider for Chronic an...</td>\n",
       "      <td>Optional</td>\n",
       "    </tr>\n",
       "    <tr>\n",
       "      <th>4</th>\n",
       "      <td>5</td>\n",
       "      <td>No Lapse Guarantee Rider (Short-Term No Lapse ...</td>\n",
       "      <td>Automatic</td>\n",
       "    </tr>\n",
       "    <tr>\n",
       "      <th>5</th>\n",
       "      <td>6</td>\n",
       "      <td>Accelerated Death Benefit Rider for Terminal I...</td>\n",
       "      <td>Optional</td>\n",
       "    </tr>\n",
       "  </tbody>\n",
       "</table>\n",
       "</div>"
      ],
      "text/plain": [
       "   Idx                                               Name   Category\n",
       "0    1                                   Conversion Rider  Automatic\n",
       "1    2                      Minimum Indexed Benefit Rider  Automatic\n",
       "2    3                        Overloan Protection 3 Rider  Automatic\n",
       "3    4  Accelerated Death Benefit Rider for Chronic an...   Optional\n",
       "4    5  No Lapse Guarantee Rider (Short-Term No Lapse ...  Automatic\n",
       "5    6  Accelerated Death Benefit Rider for Terminal I...   Optional"
      ]
     },
     "execution_count": 68,
     "metadata": {},
     "output_type": "execute_result"
    }
   ],
   "source": [
    "df_riders"
   ]
  },
  {
   "cell_type": "code",
   "execution_count": 70,
   "id": "0f5007b7",
   "metadata": {},
   "outputs": [],
   "source": [
    "#Question 1\n",
    "\n",
    "#The first task told us to determine which accounts were available for the shareholder to deposit their savings. \n",
    "#For each of the three JSON files, there are six different account options: Fixed, FixedLT, 1-Year Indexed Account, \n",
    "#1-Year No Cap Indexed Account, 1-Year High Cap Plus Indexed Account, and Variable Account. "
   ]
  },
  {
   "cell_type": "code",
   "execution_count": 71,
   "id": "474f9cbd",
   "metadata": {},
   "outputs": [],
   "source": [
    "#Question 2\n",
    "\n",
    "#Our second task from the “to-do” list was to create a combined table from the three JSON files showing the Percentage of \n",
    "#Allocation of the three JSON files. As displayed in my code, the combined Allocation Percentage from the three Shareholders \n",
    "#is 100% Vanguard VIF Mid Cap Index. "
   ]
  },
  {
   "cell_type": "code",
   "execution_count": null,
   "id": "b507edcb",
   "metadata": {},
   "outputs": [],
   "source": [
    "#Question 3\n",
    "\n",
    "#The third and final task of the baby project was to explore the JSON file titled 0a58ef5a-9f01-49bc-9bb7-f13ab042b80f.JSON \n",
    "#and identify “Riders” in the file and determine if they are optional for the shareholder or not. I found six Riders in the \n",
    "#file and their names and corresponding values are shown in the code. \n",
    "\n",
    "#(‘Conversion Rider’: Automatic),\n",
    "#(‘Minimum Indexed Benefit Rider’: Automatic),\n",
    "#(‘Overloan Protection 3 Rider’: Automatic), \n",
    "#(‘Accelerated Death Benefit Rider for Chronic and Terminal Illness *Premier Living Benefits Rider 2*’: Optional), \n",
    "#(‘No Lapse Guarantee Rider *Short-Term No Lapse Guarantee*’: Automatic), \n",
    "#(‘Accelerated Death Benefit Rider for Terminal Illness *Terminal Illness Rider*’: Optional)\n"
   ]
  }
 ],
 "metadata": {
  "kernelspec": {
   "display_name": "Python 3 (ipykernel)",
   "language": "python",
   "name": "python3"
  },
  "language_info": {
   "codemirror_mode": {
    "name": "ipython",
    "version": 3
   },
   "file_extension": ".py",
   "mimetype": "text/x-python",
   "name": "python",
   "nbconvert_exporter": "python",
   "pygments_lexer": "ipython3",
   "version": "3.9.12"
  }
 },
 "nbformat": 4,
 "nbformat_minor": 5
}
